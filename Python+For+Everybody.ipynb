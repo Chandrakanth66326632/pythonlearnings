{
 "cells": [
  {
   "cell_type": "code",
   "execution_count": 2,
   "metadata": {},
   "outputs": [
    {
     "name": "stdout",
     "output_type": "stream",
     "text": [
      "Enter a number for X: 852\n",
      "Enter a number for Y: -952\n",
      "X is greater\n"
     ]
    }
   ],
   "source": [
    "x = input(\"Enter a number for X: \")\n",
    "y= input(\"Enter a number for Y: \")\n",
    "if x>y:\n",
    "    print(\"X is greater\")\n",
    "elif x<y:\n",
    "    print(\"Y is greater\")\n",
    "elif x ==y :\n",
    "    print(\"Both are equal\")\n",
    "else:\n",
    "    print(\"User dint give proper inputs\")"
   ]
  },
  {
   "cell_type": "code",
   "execution_count": 6,
   "metadata": {},
   "outputs": [
    {
     "name": "stdout",
     "output_type": "stream",
     "text": [
      "Enter the temperature in Fahrenheit: 75.9\n",
      "Temperature in celcius is 24.388888888888893\n"
     ]
    }
   ],
   "source": [
    "#Explicit datatype conversion\n",
    "fah = input(\"Enter the temperature in Fahrenheit: \")\n",
    "fah = float(fah)\n",
    "cel = (fah -32.0)*5.0 /9.0\n",
    "print(\"Temperature in celcius is \" + str(cel))"
   ]
  },
  {
   "cell_type": "markdown",
   "metadata": {},
   "source": [
    "The below code makes use of try-except functionality to handle unexpected errors or intuited end user errors"
   ]
  },
  {
   "cell_type": "code",
   "execution_count": 8,
   "metadata": {},
   "outputs": [
    {
     "name": "stdout",
     "output_type": "stream",
     "text": [
      "Enter the temperature in Fahrenheit: 520.3\n",
      "Temperature in celcius is 271.27777777777777\n"
     ]
    }
   ],
   "source": [
    "fah = input(\"Enter the temperature in Fahrenheit: \")\n",
    "try:\n",
    "    fah = float(fah)\n",
    "    cel = (fah -32.0)*5.0 /9.0\n",
    "    print(\"Temperature in celcius is \" + str(cel))\n",
    "except:\n",
    "    print(\"Enter a proper value for fahrenheit temperature\")"
   ]
  },
  {
   "cell_type": "markdown",
   "metadata": {},
   "source": [
    "Write a program to prompt for a score between 0.0 and 1.0. If the\n",
    "score is out of range, print an error message. If the score is between 0.0 and 1.0,\n",
    "print a grade using the following table:\n",
    "Score Grade\n",
    ">= 0.9 A\n",
    ">= 0.8 B\n",
    ">= 0.7 C\n",
    ">= 0.6 D\n",
    "< 0.6 F"
   ]
  },
  {
   "cell_type": "code",
   "execution_count": 16,
   "metadata": {},
   "outputs": [
    {
     "name": "stdout",
     "output_type": "stream",
     "text": [
      "Enter the score: 0.62547\n",
      " Grade D \n"
     ]
    }
   ],
   "source": [
    "score = input(\"Enter the score: \")\n",
    "try:\n",
    "    score = float(score)\n",
    "    if score >= 0.9 and score <= 1.0:\n",
    "        print(\" Grade A \")\n",
    "    elif score >= 0.8 and score < 0.9:\n",
    "        print(\" Grade B \")\n",
    "    elif score >= 0.7 and score < 0.8:\n",
    "        print(\" Grade C\")\n",
    "    elif score >=0.6 and score < 0.7:\n",
    "        print(\" Grade D \")\n",
    "    elif score < 0.6:\n",
    "        print(\" Fail \")\n",
    "    elif score > 1.0:\n",
    "        print(\"Not a valid score range\")\n",
    "except:\n",
    "    print(\"Please enter a valid score between  0 and  1.0\")"
   ]
  },
  {
   "cell_type": "code",
   "execution_count": 38,
   "metadata": {},
   "outputs": [
    {
     "name": "stdout",
     "output_type": "stream",
     "text": [
      "32\n",
      "0.33743128332383043\n"
     ]
    }
   ],
   "source": [
    "# to generate the random number we import the random module.\n",
    "import random as rn\n",
    "x = rn.random()\n",
    "y = rn.randint(0,100)\n",
    "rn.random()\n",
    "rn.uniform(1, 10)  # Random float x, 1.0 <= x < 10.0\n",
    "rn.randint(1, 10)  # Integer from 1 to 10, endpoints included\n",
    "rn.randrange(0, 101, 2)  # Even integer from 0 to 100\n",
    "rn.choice('abcdefghij')  # Choose a random element\n",
    "items = [1, 2, 3, 4, 5, 6, 7]\n",
    "rn.shuffle(items)\n",
    "items\n",
    "rn.sample([1, 2, 3, 4, 5],  3)\n",
    "print(y)\n",
    "print(x)\n",
    "\n",
    "    "
   ]
  },
  {
   "cell_type": "code",
   "execution_count": 36,
   "metadata": {},
   "outputs": [
    {
     "data": {
      "text/plain": [
       "[1, 5, 3]"
      ]
     },
     "execution_count": 36,
     "metadata": {},
     "output_type": "execute_result"
    }
   ],
   "source": [
    "import random\n",
    "  # Choose 3 elements\n"
   ]
  },
  {
   "cell_type": "code",
   "execution_count": 30,
   "metadata": {},
   "outputs": [
    {
     "name": "stdout",
     "output_type": "stream",
     "text": [
      "hi\n"
     ]
    }
   ],
   "source": [
    "#to randomly choose an element from a given list/array/dictionary of elements we use random.choice\n",
    "\n",
    "import random as rn\n",
    "t = [\"hi\" , \"hello\", \"Bye\"]\n",
    "print(rn.choice(t))\n"
   ]
  },
  {
   "cell_type": "code",
   "execution_count": 40,
   "metadata": {
    "collapsed": true
   },
   "outputs": [],
   "source": [
    "import math as mt\n"
   ]
  },
  {
   "cell_type": "code",
   "execution_count": 42,
   "metadata": {},
   "outputs": [
    {
     "data": {
      "text/plain": [
       "3"
      ]
     },
     "execution_count": 42,
     "metadata": {},
     "output_type": "execute_result"
    }
   ],
   "source": [
    "mt.ceil(2.356)\n"
   ]
  },
  {
   "cell_type": "code",
   "execution_count": 43,
   "metadata": {},
   "outputs": [
    {
     "data": {
      "text/plain": [
       "54"
      ]
     },
     "execution_count": 43,
     "metadata": {},
     "output_type": "execute_result"
    }
   ],
   "source": [
    "mt.floor(54.2212)\n"
   ]
  },
  {
   "cell_type": "code",
   "execution_count": 44,
   "metadata": {},
   "outputs": [
    {
     "data": {
      "text/plain": [
       "120"
      ]
     },
     "execution_count": 44,
     "metadata": {},
     "output_type": "execute_result"
    }
   ],
   "source": [
    "mt.factorial(5)"
   ]
  },
  {
   "cell_type": "code",
   "execution_count": 45,
   "metadata": {},
   "outputs": [
    {
     "data": {
      "text/plain": [
       "4"
      ]
     },
     "execution_count": 45,
     "metadata": {},
     "output_type": "execute_result"
    }
   ],
   "source": [
    "mt.gcd(4,84)"
   ]
  },
  {
   "cell_type": "code",
   "execution_count": 55,
   "metadata": {},
   "outputs": [
    {
     "name": "stdout",
     "output_type": "stream",
     "text": [
      "Enter the number of hours: 45\n",
      "Enter the pay rate: 10\n",
      "Pay:  575.0\n"
     ]
    }
   ],
   "source": [
    "#Rewrite your pay computation with time-and-a-half for overtime and create a function called computepay \n",
    "#which takes two parameters (hours and rate).\n",
    "\n",
    "def computepay():\n",
    "    Hours = float(input(\"Enter the number of hours: \"))\n",
    "    Payrate = float(input(\"Enter the pay rate: \"))\n",
    "    if Hours <= 40.0:\n",
    "        pay = Hours * Payrate\n",
    "    elif Hours > 40.0:\n",
    "        p1 = (Hours-40)* 2.5 * Payrate\n",
    "        p2 = Hours * Payrate\n",
    "        pay = p1+p2\n",
    "    return pay;\n",
    "\n",
    "p = computepay()\n",
    "print(\"Pay: \",p)"
   ]
  },
  {
   "cell_type": "code",
   "execution_count": 62,
   "metadata": {},
   "outputs": [
    {
     "name": "stdout",
     "output_type": "stream",
     "text": [
      "Enter the score: 0.9\n",
      "A\n"
     ]
    }
   ],
   "source": [
    "# Rewrite the grade program from the previous chapter using a function\n",
    "# called computegrade that takes a score as its parameter and returns a grade as a\n",
    "# string.\n",
    "# Score Grade\n",
    "# > 0.9 A\n",
    "# > 0.8 B\n",
    "# > 0.7 C\n",
    "# > 0.6 D\n",
    "# <= 0.6 F\n",
    "\n",
    "def computegrade():\n",
    "    grade = None\n",
    "    score=input(\"Enter the score: \")\n",
    "    try:\n",
    "        score = float(score)\n",
    "        if score >= 0.9 and score <= 1.0:\n",
    "            grade = \"A\"\n",
    "        elif score >= 0.8 and score < 0.9:\n",
    "            grade = \"B\"\n",
    "        elif score >= 0.7 and score < 0.8:\n",
    "            grade = \"C\"\n",
    "        elif score >=0.6 and score < 0.7:\n",
    "            grade = \"D\"\n",
    "        elif score < 0.6:\n",
    "            grade = \"Fail\"\n",
    "        elif score > 1.0:\n",
    "            grade = \"Not a valid score range\"\n",
    "    except:\n",
    "        grade = \"Please enter a valid score between  0 and  1.0\"\n",
    "    return grade\n",
    "\n",
    "grade = computegrade()\n",
    "print(grade)\n"
   ]
  },
  {
   "cell_type": "code",
   "execution_count": 70,
   "metadata": {},
   "outputs": [
    {
     "name": "stdout",
     "output_type": "stream",
     "text": [
      "Enter any number: 1\n",
      "Enter any number: 2\n",
      "Enter any number: 3\n",
      "Enter any number: done\n",
      "Total is  0\n",
      "Count of numbers is  0\n"
     ]
    },
    {
     "ename": "ZeroDivisionError",
     "evalue": "division by zero",
     "output_type": "error",
     "traceback": [
      "\u001b[1;31m---------------------------------------------------------------------------\u001b[0m",
      "\u001b[1;31mZeroDivisionError\u001b[0m                         Traceback (most recent call last)",
      "\u001b[1;32m<ipython-input-70-8d0edb9ff32b>\u001b[0m in \u001b[0;36m<module>\u001b[1;34m()\u001b[0m\n\u001b[0;32m     12\u001b[0m         \u001b[0mprint\u001b[0m\u001b[1;33m(\u001b[0m\u001b[1;34m\"Total is \"\u001b[0m\u001b[1;33m,\u001b[0m \u001b[0mtotal\u001b[0m\u001b[1;33m)\u001b[0m\u001b[1;33m\u001b[0m\u001b[0m\n\u001b[0;32m     13\u001b[0m         \u001b[0mprint\u001b[0m\u001b[1;33m(\u001b[0m\u001b[1;34m\"Count of numbers is \"\u001b[0m\u001b[1;33m,\u001b[0m \u001b[0mcount\u001b[0m\u001b[1;33m)\u001b[0m\u001b[1;33m\u001b[0m\u001b[0m\n\u001b[1;32m---> 14\u001b[1;33m         \u001b[0mprint\u001b[0m\u001b[1;33m(\u001b[0m\u001b[1;34m\"Average is \"\u001b[0m\u001b[1;33m,\u001b[0m \u001b[0mfloat\u001b[0m\u001b[1;33m(\u001b[0m\u001b[0mtotal\u001b[0m\u001b[1;33m/\u001b[0m\u001b[0mcount\u001b[0m\u001b[1;33m)\u001b[0m\u001b[1;33m)\u001b[0m\u001b[1;33m\u001b[0m\u001b[0m\n\u001b[0m\u001b[0;32m     15\u001b[0m         \u001b[1;32mbreak\u001b[0m\u001b[1;33m\u001b[0m\u001b[0m\n\u001b[0;32m     16\u001b[0m     \u001b[1;32melse\u001b[0m\u001b[1;33m:\u001b[0m\u001b[1;33m\u001b[0m\u001b[0m\n",
      "\u001b[1;31mZeroDivisionError\u001b[0m: division by zero"
     ]
    }
   ],
   "source": [
    "# Write a program which repeatedly reads numbers until the user enters\n",
    "# “done”. Once “done” is entered, print out the total, count, and average of the\n",
    "# numbers. If the user enters anything other than a number, detect their mistake\n",
    "# using try and except and print an error message and skip to the next number.\n",
    "\n",
    "while True:\n",
    "    total =0\n",
    "    count = 0\n",
    "    a = input(\"Enter any number: \")\n",
    "    \n",
    "    if a == \"done\":\n",
    "        print(\"Total is \", total)\n",
    "        print(\"Count of numbers is \", count)\n",
    "        print(\"Average is \", float(total/count))\n",
    "        break\n",
    "    else:\n",
    "        try:\n",
    "            total = total + float(a)\n",
    "        except:\n",
    "            print(\"Please enter a valid number\")\n",
    "    count = count +1    \n",
    "        \n",
    "        \n",
    "        \n",
    "    "
   ]
  },
  {
   "cell_type": "code",
   "execution_count": 1,
   "metadata": {},
   "outputs": [
    {
     "name": "stdout",
     "output_type": "stream",
     "text": [
      "Count of b's are :  7\n"
     ]
    }
   ],
   "source": [
    "#counting of same alphabets in a word\n",
    "count=0\n",
    "word = \"bnabjhasdvadjhdabdnbbmsdfbsdfsdbffvsdfsdsddfhsdvfhh\"\n",
    "for letter in word:\n",
    "    if letter == 'b':\n",
    "        count+=1\n",
    "print(\"Count of b's are : \", count)"
   ]
  },
  {
   "cell_type": "code",
   "execution_count": 4,
   "metadata": {},
   "outputs": [
    {
     "data": {
      "text/plain": [
       "str"
      ]
     },
     "execution_count": 4,
     "metadata": {},
     "output_type": "execute_result"
    }
   ],
   "source": [
    "word = \"ChanDrakanTh\"\n",
    "type(word)\n",
    "\n"
   ]
  },
  {
   "cell_type": "code",
   "execution_count": 2,
   "metadata": {},
   "outputs": [
    {
     "ename": "OSError",
     "evalue": "[Errno 22] Invalid argument: 'http://localhost:8888/edit/mbox-short.txt'",
     "output_type": "error",
     "traceback": [
      "\u001b[1;31m---------------------------------------------------------------------------\u001b[0m",
      "\u001b[1;31mOSError\u001b[0m                                   Traceback (most recent call last)",
      "\u001b[1;32m<ipython-input-2-577ed97f6eaf>\u001b[0m in \u001b[0;36m<module>\u001b[1;34m()\u001b[0m\n\u001b[1;32m----> 1\u001b[1;33m \u001b[0mf\u001b[0m \u001b[1;33m=\u001b[0m \u001b[0mopen\u001b[0m\u001b[1;33m(\u001b[0m\u001b[1;34m\"http://localhost:8888/edit/mbox-short.txt\"\u001b[0m\u001b[1;33m)\u001b[0m\u001b[1;33m\u001b[0m\u001b[0m\n\u001b[0m\u001b[0;32m      2\u001b[0m \u001b[1;32mfor\u001b[0m \u001b[0mline\u001b[0m \u001b[1;32min\u001b[0m \u001b[0mf\u001b[0m\u001b[1;33m:\u001b[0m\u001b[1;33m\u001b[0m\u001b[0m\n\u001b[0;32m      3\u001b[0m     \u001b[0mprint\u001b[0m\u001b[1;33m(\u001b[0m\u001b[0mline\u001b[0m\u001b[1;33m)\u001b[0m\u001b[1;33m\u001b[0m\u001b[0m\n",
      "\u001b[1;31mOSError\u001b[0m: [Errno 22] Invalid argument: 'http://localhost:8888/edit/mbox-short.txt'"
     ]
    }
   ],
   "source": []
  },
  {
   "cell_type": "code",
   "execution_count": null,
   "metadata": {
    "collapsed": true
   },
   "outputs": [],
   "source": [
    "# When you encounter a line that starts with “X-DSPAM-Confidence:” pull apart\n",
    "# the line to extract the floating-point number on the line. Count these lines and\n",
    "# then compute the total of the spam confidence values from these lines. When you\n",
    "# reach the end of the file, print out the average spam confidence.\n",
    "\n",
    "fname = input(\"Enter the filename: \")\n",
    "words =list()\n",
    "count = 0\n",
    "total = 0\n",
    "try:\n",
    "    file = open(fname)\n",
    "except:\n",
    "    print(\"Please enter a valid filename. File not found\")\n",
    "    exit()\n",
    "            \n",
    "for line in file:\n",
    "    if line.startswith(\"X-DSPAM-Confidence:\"):\n",
    "        words = line.split()\n",
    "        total = total + float(words[1])\n",
    "        count+= 1\n",
    "print(float((total/count)))"
   ]
  },
  {
   "cell_type": "code",
   "execution_count": 1,
   "metadata": {},
   "outputs": [
    {
     "name": "stdout",
     "output_type": "stream",
     "text": [
      "Cheddar\n",
      "Edam\n",
      "Gouda\n"
     ]
    }
   ],
   "source": [
    "cheeses = ['Cheddar', 'Edam', 'Gouda']\n",
    "for cheese in cheeses:\n",
    "    print(cheese)"
   ]
  },
  {
   "cell_type": "code",
   "execution_count": 7,
   "metadata": {},
   "outputs": [
    {
     "name": "stdout",
     "output_type": "stream",
     "text": [
      "[1, 5, 9, 4, 8, 9]\n",
      "[8, 9]\n",
      "[1, 5, 9, 4, 8]\n"
     ]
    }
   ],
   "source": [
    "a = [1,5,9,4]\n",
    "b= [8,9]\n",
    "a.extend(b)\n",
    "print(a)\n",
    "print(b)\n",
    "a.pop()\n",
    "print(a)"
   ]
  },
  {
   "cell_type": "code",
   "execution_count": 2,
   "metadata": {},
   "outputs": [
    {
     "name": "stdout",
     "output_type": "stream",
     "text": [
      "Enter a number: 4\n",
      "Enter a number: 6\n",
      "Enter a number: 86\n",
      "Enter a number: done\n",
      "96.0 3 32.0\n"
     ]
    }
   ],
   "source": [
    "# Calculating totsl , count and average without lists\n",
    "total = 0\n",
    "count =0\n",
    "while True:\n",
    "    n =input(\"Enter a number: \")\n",
    "    if n == \"done\":\n",
    "        print(total, count, float(total/count))\n",
    "        break\n",
    "    else:\n",
    "        total = total + float(n)\n",
    "        count = count +1"
   ]
  },
  {
   "cell_type": "code",
   "execution_count": 5,
   "metadata": {},
   "outputs": [
    {
     "name": "stdout",
     "output_type": "stream",
     "text": [
      "Enter a number: 5\n",
      "Enter a number: 6\n",
      "Enter a number: done\n",
      "11.0 2 5.5\n"
     ]
    }
   ],
   "source": [
    "# Calculating totsl , count and average with lists\n",
    "total = 0\n",
    "count =0\n",
    "numlist =[]\n",
    "while True:\n",
    "    n =input(\"Enter a number: \")\n",
    "    if n == \"done\":\n",
    "        break\n",
    "    else:\n",
    "        numlist.append(float(n))\n",
    "        \n",
    "print(sum(numlist), len(numlist), float(sum(numlist)/len(numlist)))\n"
   ]
  },
  {
   "cell_type": "code",
   "execution_count": 13,
   "metadata": {},
   "outputs": [
    {
     "name": "stdout",
     "output_type": "stream",
     "text": [
      "['C', 'h', 'a', 'n', 'd', 'r', 'a', 'k', 'a', 'n', 't', 'h', ' ', 'C', 'h', 'a', 'r', 'y', ' ', 'K', 'o', 'l', 'a', 'n', 'p', 'a', 'k', 'a']\n",
      "['Chandrakanth', 'Chary', 'Kolanpaka']\n",
      "Chandrakanth Chary Kolanpaka\n"
     ]
    }
   ],
   "source": [
    "name = \"Chandrakanth Chary Kolanpaka\"\n",
    "s = list(name)\n",
    "print(s)\n",
    "z = name.split()\n",
    "print(z)\n",
    "d =\" \"\n",
    "y = d.join(z)\n",
    "print(y)"
   ]
  },
  {
   "cell_type": "code",
   "execution_count": 14,
   "metadata": {
    "collapsed": true
   },
   "outputs": [],
   "source": [
    "# Write a function called chop that takes a list and modifies it, removing the first\n",
    "# and last elements, and returns None.\n",
    "\n",
    "def chop(a):\n",
    "    del a[0]\n",
    "    del a[-1]\n",
    "\n",
    "l = [\"Chandra\" ,\"Chary\" , \"Kolanpaka\"]\n",
    "chop(l)\n",
    "         \n",
    "    "
   ]
  },
  {
   "cell_type": "code",
   "execution_count": 15,
   "metadata": {
    "collapsed": true
   },
   "outputs": [],
   "source": [
    "#write a function called middle that takes a list and returns a new list that\n",
    "#contains all but the first and last elements.\n",
    "\n",
    "def chop(a):\n",
    "    del a[1]\n",
    "\n",
    "l = [\"Chandra\" ,\"Chary\" , \"Kolanpaka\"]\n",
    "chop(l)"
   ]
  },
  {
   "cell_type": "code",
   "execution_count": null,
   "metadata": {
    "collapsed": true
   },
   "outputs": [],
   "source": [
    "# Write a program to open the file romeo.txt and read it line by line. For each line,\n",
    "# split the line into a list of words using the split function.\n",
    "\n",
    "file = input(\"Enter a filename: \")\n",
    "try:\n",
    "    fhand = open(file)\n",
    "except:\n",
    "    print(\"Please enter a valid filename\")\n",
    "    exit()\n",
    "words=[]\n",
    "final= []\n",
    "for line in fhand:\n",
    "    words = line.split()\n",
    "    for word in words:\n",
    "        if word in final:\n",
    "            continue\n",
    "        else:\n",
    "            final.append(word)\n",
    "final.sort()\n",
    "print(final)  "
   ]
  },
  {
   "cell_type": "code",
   "execution_count": null,
   "metadata": {
    "collapsed": true
   },
   "outputs": [],
   "source": [
    "# Write a program to read through the mail box data and when you\n",
    "# find line that starts with “From”, you will split the line into words using the split\n",
    "# function. We are interested in who sent the message, which is the second word on\n",
    "# the From line.\n",
    "file = input(\"Enter a filename: \")\n",
    "try:\n",
    "    fhand = open(file)\n",
    "except:\n",
    "    print(\"Please enter a valid filename\")\n",
    "    exit()\n",
    "words=[]\n",
    "count=0\n",
    "for line in fhand:\n",
    "    if line.startswith(\"From:\"):\n",
    "        words = line.split()\n",
    "        count=count+1\n",
    "        print(words[1])\n",
    "    else:\n",
    "        continue\n",
    "print(\"There are total \" + str(count) + \" lines in the file\")"
   ]
  },
  {
   "cell_type": "code",
   "execution_count": 16,
   "metadata": {
    "scrolled": true
   },
   "outputs": [
    {
     "name": "stdout",
     "output_type": "stream",
     "text": [
      "Enter a number: 74\n",
      "Enter a number: 9\n",
      "Enter a number: 52\n",
      "Enter a number: 65\n",
      "Enter a number: 23\n",
      "Enter a number: done\n",
      "Maximum:  74.0\n",
      "Minimum:  9.0\n"
     ]
    }
   ],
   "source": [
    "# Rewrite the program that prompts the user for a list of numbers and\n",
    "# prints out the maximum and minimum of the numbers at the end when the user\n",
    "# enters “done”. Write the program to store the numbers the user enters in a list\n",
    "# and use the max() and min() functions to compute the maximum and minimum\n",
    "# numbers after the loop completes.\n",
    "\n",
    "numlist =[]\n",
    "while True:\n",
    "    n =input(\"Enter a number: \")\n",
    "    if n == \"done\":\n",
    "        break\n",
    "    else:\n",
    "        numlist.append(float(n))\n",
    "        \n",
    "print(\"Maximum: \", max(numlist))\n",
    "print(\"Minimum: \", min(numlist))\n"
   ]
  },
  {
   "cell_type": "code",
   "execution_count": 20,
   "metadata": {},
   "outputs": [
    {
     "name": "stdout",
     "output_type": "stream",
     "text": [
      "Chary\n"
     ]
    }
   ],
   "source": [
    "d ={}\n",
    "d[\"one\"] =\"Chandrakanth\"\n",
    "d[\"two\"]=\"Chary\"\n",
    "d[\"three\"]=\"Kolanpaka\"\n",
    "print(d[\"two\"])"
   ]
  },
  {
   "cell_type": "code",
   "execution_count": 21,
   "metadata": {},
   "outputs": [
    {
     "name": "stdout",
     "output_type": "stream",
     "text": [
      "{'C': 1, 'h': 2, 'a': 3, 'n': 2, 'd': 1, 'r': 1, 'k': 1, 't': 1}\n"
     ]
    }
   ],
   "source": [
    "w = \"Chandrakanth\"\n",
    "d ={}\n",
    "for item in w:\n",
    "    if item in d:\n",
    "        d[item] = d[item] +1\n",
    "    else:\n",
    "        d[item] = 1\n",
    "print(d)"
   ]
  },
  {
   "cell_type": "code",
   "execution_count": 24,
   "metadata": {},
   "outputs": [
    {
     "name": "stdout",
     "output_type": "stream",
     "text": [
      "{'C': 2, 'h': 3, 'a': 7, 'n': 3, 'd': 1, 'r': 2, 'k': 2, 't': 1, ' ': 2, 'y': 1, 'K': 1, 'o': 1, 'l': 1, 'p': 1}\n"
     ]
    }
   ],
   "source": [
    "#Guarding it with a default value for letters not found using get method\n",
    "w = \"Chandrakanth Chary Kolanpaka\"\n",
    "d ={}\n",
    "for item in w:\n",
    "    if item in d:\n",
    "        d[item] = d.get(item,0) +1\n",
    "    else:\n",
    "        d[item] = 1\n",
    "But soft what light through yonder window breaks\n",
    "It is the east and Juliet is the sun\n",
    "Arise fair sun and kill the envious moon\n",
    "Who is already sick and pale with griefprint(d)"
   ]
  },
  {
   "cell_type": "code",
   "execution_count": null,
   "metadata": {
    "collapsed": true
   },
   "outputs": [],
   "source": [
    "\"\"\"But soft what light through yonder window breaks\n",
    "It is the east and Juliet is the sun\n",
    "Arise fair sun and kill the envious moon\n",
    "Who is already sick and pale with grief\"\"\"\"\n",
    "\n",
    "# We will write a Python program to read through the lines of the file, break each\n",
    "# line into a list of words, and then loop through each of the words in the line and\n",
    "# count each word using a dictionary.\n",
    "\n",
    "file = input(\"Enter a filename: \")\n",
    "try:\n",
    "    fhand = open(file)\n",
    "except:\n",
    "    print(\"Please enter a valid file name\")\n",
    "    exit\n",
    "words =[]\n",
    "di ={}\n",
    "for line in fhand:\n",
    "    words = line.split()\n",
    "    for word in words:\n",
    "        if word in di:\n",
    "            di[word] = di.get(word,0) +1\n",
    "        else:\n",
    "            di[word] = 1\n",
    "print(di)\n",
    "    "
   ]
  },
  {
   "cell_type": "code",
   "execution_count": null,
   "metadata": {
    "collapsed": true
   },
   "outputs": [],
   "source": [
    "# Write a program to read through a mail log, build a histogram using\n",
    "# a dictionary to count how many messages have come from each email address, and\n",
    "# print the dictionary.\n",
    "\n",
    "file = input(\"Enter a filename: \")\n",
    "try:\n",
    "    fhand = open(file)\n",
    "except:\n",
    "    print(\"Please enter a valid file name\")\n",
    "    exit\n",
    "words=[]\n",
    "key = []\n",
    "di ={}\n",
    "for line in fhand:\n",
    "    if line.startswith(\"From: \"):\n",
    "        words= line.split()\n",
    "        key =words[1]\n",
    "        if key in di:\n",
    "            di[key] = di.get(key,0) +1\n",
    "        else:\n",
    "            di[key] = 1\n",
    "    \n",
    "print(di)"
   ]
  },
  {
   "cell_type": "code",
   "execution_count": 28,
   "metadata": {},
   "outputs": [
    {
     "name": "stdout",
     "output_type": "stream",
     "text": [
      "Enter a filename: mbox-short.txt\n",
      "cwen@iupui.edu  has the Maximum count of  5\n",
      "wagnermr@iupui.edu  has the Maximum count of  1\n"
     ]
    }
   ],
   "source": [
    "# Add code to the above program to figure out who has the most\n",
    "# messages in the file.\n",
    "# After all the data has been read and the dictionary has been created, look through\n",
    "# the dictionary using a maximum loop (see Section [maximumloop]) to find who\n",
    "# has the most messages and print how many messages the person has.\n",
    "\n",
    "file = input(\"Enter a filename: \")\n",
    "try:\n",
    "    fhand = open(file)\n",
    "except:\n",
    "    print(\"Please enter a valid file name\")\n",
    "    exit\n",
    "words=[]\n",
    "key = []\n",
    "di ={}\n",
    "mx_vl= None\n",
    "mx_ky=0\n",
    "mn_vl= None\n",
    "mn_ky=0\n",
    "for line in fhand:\n",
    "    if line.startswith(\"From: \"):\n",
    "        words= line.split()\n",
    "        key =words[1]\n",
    "        if key in di:\n",
    "            di[key] = di.get(key,0) +1\n",
    "        else:\n",
    "            di[key] = 1\n",
    "  \n",
    "for key,value in di.items():\n",
    "    if mx_vl is None or value > mx_vl:\n",
    "        mx_ky= key\n",
    "        mx_vl=value\n",
    "        \n",
    "        \n",
    "print(mx_ky,\" has the Maximum count of \", di[mx_ky])\n",
    "\n",
    "for key,value in di.items():\n",
    "    if mn_vl is None or value < mn_vl:\n",
    "        mn_ky= key\n",
    "        mn_vl=value\n",
    "        \n",
    "        \n",
    "print(mn_ky,\" has the Maximum count of \", di[mn_ky])\n",
    "\n",
    "\n"
   ]
  },
  {
   "cell_type": "code",
   "execution_count": 30,
   "metadata": {},
   "outputs": [
    {
     "name": "stdout",
     "output_type": "stream",
     "text": [
      "['yonder', 'window', 'breaks', 'light', 'what', 'soft', 'but', 'in']\n",
      "[(6, 'yonder'), (6, 'window'), (6, 'breaks'), (5, 'light'), (4, 'what'), (4, 'soft'), (3, 'but'), (2, 'in')]\n"
     ]
    }
   ],
   "source": [
    "txt = 'but soft what light in yonder window breaks'\n",
    "words = txt.split()\n",
    "t = list()\n",
    "for word in words:\n",
    "    t.append((len(word), word))\n",
    "    t.sort(reverse=True)\n",
    "res = list()\n",
    "for length, word in t:\n",
    "    res.append(word)\n",
    "print(res)\n",
    "print(t)"
   ]
  }
 ],
 "metadata": {
  "kernelspec": {
   "display_name": "Python 3",
   "language": "python",
   "name": "python3"
  },
  "language_info": {
   "codemirror_mode": {
    "name": "ipython",
    "version": 3
   },
   "file_extension": ".py",
   "mimetype": "text/x-python",
   "name": "python",
   "nbconvert_exporter": "python",
   "pygments_lexer": "ipython3",
   "version": "3.6.1"
  }
 },
 "nbformat": 4,
 "nbformat_minor": 2
}
